{
 "cells": [
  {
   "cell_type": "code",
   "execution_count": 14,
   "metadata": {},
   "outputs": [],
   "source": [
    "import requests\n",
    "from constants import *\n",
    "import pandas as pd"
   ]
  },
  {
   "cell_type": "code",
   "execution_count": 2,
   "metadata": {},
   "outputs": [],
   "source": [
    "endpoint = \"TIME_SERIES_WEEKLY_ADJUSTED\"\n",
    "symbol = \"IBM\"\n",
    "url = f\"https://www.alphavantage.co/query?function={endpoint}&symbol={symbol}&apikey={api_key}\""
   ]
  },
  {
   "cell_type": "code",
   "execution_count": null,
   "metadata": {},
   "outputs": [],
   "source": [
    "r = requests.get(url)\n",
    "data = r.json()"
   ]
  },
  {
   "cell_type": "code",
   "execution_count": null,
   "metadata": {},
   "outputs": [],
   "source": [
    "meta = data[\"Meta Data\"]\n",
    "meta"
   ]
  },
  {
   "cell_type": "code",
   "execution_count": null,
   "metadata": {},
   "outputs": [],
   "source": [
    "raw = data[\"Weekly Adjusted Time Series\"]"
   ]
  },
  {
   "cell_type": "code",
   "execution_count": 29,
   "metadata": {},
   "outputs": [],
   "source": [
    "week_list = [week for week in raw]\n",
    "open_list = [raw[week][\"1. open\"] for week in raw]\n",
    "high_list = [raw[week][\"2. high\"] for week in raw]\n",
    "low_list = [raw[week][\"3. low\"] for week in raw]\n",
    "close_list = [raw[week][\"4. close\"] for week in raw]\n",
    "adj_list = [raw[week][\"5. adjusted close\"] for week in raw]\n",
    "vol_list = [raw[week][\"6. volume\"] for week in raw]\n",
    "div_list = [raw[week][\"7. dividend amount\"] for week in raw]"
   ]
  },
  {
   "cell_type": "code",
   "execution_count": null,
   "metadata": {},
   "outputs": [],
   "source": [
    "df = pd.DataFrame(\n",
    "    {\n",
    "        \"week\": week_list,\n",
    "        \"open\": open_list,\n",
    "        \"high\": high_list,\n",
    "        \"low\": low_list,\n",
    "        \"close\": close_list,\n",
    "        \"adj_close\": adj_list,\n",
    "        \"volume\": vol_list,\n",
    "        \"dividend\": div_list,\n",
    "    }\n",
    ")\n",
    "df"
   ]
  },
  {
   "cell_type": "code",
   "execution_count": null,
   "metadata": {},
   "outputs": [],
   "source": []
  }
 ],
 "metadata": {
  "kernelspec": {
   "display_name": "Python 3",
   "language": "python",
   "name": "python3"
  },
  "language_info": {
   "codemirror_mode": {
    "name": "ipython",
    "version": 3
   },
   "file_extension": ".py",
   "mimetype": "text/x-python",
   "name": "python",
   "nbconvert_exporter": "python",
   "pygments_lexer": "ipython3",
   "version": "3.7.0"
  },
  "orig_nbformat": 4
 },
 "nbformat": 4,
 "nbformat_minor": 2
}
